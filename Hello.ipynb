{
 "cells": [
  {
   "cell_type": "code",
   "execution_count": 1,
   "metadata": {},
   "outputs": [],
   "source": [
    "import numpy as np\n",
    "import pydicom\n",
    "import pandas as pd\n",
    "import matplotlib.pyplot as plt\n",
    "%matplotlib inline\n",
    "import warnings\n",
    "import nibabel as nib\n",
    "import skimage\n",
    "from scipy.stats.distributions import norm\n",
    "from sklearn.neighbors import KernelDensity\n",
    "from scipy.stats import gaussian_kde\n",
    "import scipy.integrate as integrate\n",
    "from statsmodels.nonparametric.kde import KDEUnivariate\n",
    "from statsmodels.nonparametric.kernel_density import KDEMultivariate\n",
    "from multiprocessing import Pool\n",
    "import dill as pickle\n",
    "from pathos.multiprocessing import ProcessingPool as Pool\n",
    "warnings.filterwarnings(\"ignore\")"
   ]
  },
  {
   "cell_type": "code",
   "execution_count": 2,
   "metadata": {},
   "outputs": [],
   "source": [
    "# Data loading\n",
    "t1_img = nib.load('mni_icbm152_t1_tal_nlin_asym_09a.nii')\n",
    "t1_data = t1_img.get_data()\n",
    "t2_img = nib.load('mni_icbm152_t2_tal_nlin_asym_09a.nii')\n",
    "t2_data = t2_img.get_data()\n",
    "# Slice of the Nifti image\n",
    "t1_slice = t1_data[:, :, 94]\n",
    "t2_slice = t2_data[:, :, 94]"
   ]
  },
  {
   "cell_type": "code",
   "execution_count": 3,
   "metadata": {},
   "outputs": [],
   "source": [
    "def blur_image(Image_in, epsilon):\n",
    "    Image = Image_in.copy()\n",
    "    n = int(Image.size/epsilon)\n",
    "    for i in range(1,n):\n",
    "        b = [(Image <= epsilon*i) & (Image >= epsilon*(i-1))]\n",
    "        Image[b] = 0.5*(epsilon*i + epsilon*(i-1))\n",
    "    return Image"
   ]
  },
  {
   "cell_type": "code",
   "execution_count": 4,
   "metadata": {},
   "outputs": [],
   "source": [
    "t1_b = blur_image(t1_slice,1)\n",
    "t2_b = blur_image(t2_slice,1)"
   ]
  },
  {
   "cell_type": "code",
   "execution_count": 5,
   "metadata": {},
   "outputs": [],
   "source": [
    "# Flat the vector\n",
    "t1 = t1_b.flatten()\n",
    "t2 = t2_b.flatten()"
   ]
  },
  {
   "cell_type": "code",
   "execution_count": 7,
   "metadata": {},
   "outputs": [],
   "source": [
    "epsilon = 1"
   ]
  },
  {
   "cell_type": "code",
   "execution_count": null,
   "metadata": {},
   "outputs": [],
   "source": [
    "def CR(t1,t2,epsilon):\n",
    "    def compress(X,Y,epsilon):\n",
    "        sx = int(np.max(X)/epsilon)\n",
    "        sy = int(np.max(Y)/epsilon)\n",
    "        a = np.zeros((sx, sy))\n",
    "        for i in range(1,sx):\n",
    "            for j in range(1,sy):\n",
    "                b = [(X <= epsilon*i) & (X > epsilon*i-1) & (Y <= epsilon*j) & (Y > epsilon*j-1)]\n",
    "                a[i,j] = np.sum(b)\n",
    "        return a\n",
    "    dens = compress(t1,t2,epsilon)\n",
    "    marginal_x = np.sum(A, axis = 1)\n",
    "    marginal_y = np.sum(A, axis = 0)\n",
    "    X = np.arange(epsilon*0.5, int(np.max(t1)/epsilon),epsilon)\n",
    "    Y = np.arange(epsilon*0.5, int(np.max(t2)/epsilon),epsilon)\n",
    "    def conditional_variance_x(y):\n",
    "        py = marginal_y[int(y/epsilon + 0.5)-1]\n",
    "        if py == 0:\n",
    "            return 0\n",
    "        else:\n",
    "            left = X**2*dens[:,int(y/epsilon + 0.5)-1]/py\n",
    "            right = X*dens[:,int(y/epsilon + 0.5)-1]/py\n",
    "            return np.sum(left) - np.sum(right)**2\n",
    "    def conditional_variance_y(x):\n",
    "        px = marginal_x[int(x/epsilon + 0.5)-1]\n",
    "        if px == 0:\n",
    "            return 0\n",
    "        else:\n",
    "            left = Y**2*dens[int(x/epsilon + 0.5)-1,:]/px\n",
    "            right = Y*dens[int(x/epsilon + 0.5)-1,:]/px\n",
    "            return np.sum(left) - np.sum(right)**2\n",
    "    var_x = np.var(X)\n",
    "    su = 0\n",
    "    for y in Y:\n",
    "        su += conditional_variance_x(y)\n",
    "    left = su/var_x\n",
    "    var_y = np.var(Y)\n",
    "    su = 0\n",
    "    for x in X:\n",
    "        su += conditional_variance_y(x)\n",
    "    right su/var_y\n",
    "    return left + right"
   ]
  }
 ],
 "metadata": {
  "kernelspec": {
   "display_name": "Python 3",
   "language": "python",
   "name": "python3"
  },
  "language_info": {
   "codemirror_mode": {
    "name": "ipython",
    "version": 3
   },
   "file_extension": ".py",
   "mimetype": "text/x-python",
   "name": "python",
   "nbconvert_exporter": "python",
   "pygments_lexer": "ipython3",
   "version": "3.7.4"
  }
 },
 "nbformat": 4,
 "nbformat_minor": 4
}
