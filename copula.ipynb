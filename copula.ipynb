{
  "nbformat": 4,
  "nbformat_minor": 0,
  "metadata": {
    "kernelspec": {
      "display_name": "Python 3",
      "language": "python",
      "name": "python3"
    },
    "language_info": {
      "codemirror_mode": {
        "name": "ipython",
        "version": 3
      },
      "file_extension": ".py",
      "mimetype": "text/x-python",
      "name": "python",
      "nbconvert_exporter": "python",
      "pygments_lexer": "ipython3",
      "version": "3.7.4"
    },
    "colab": {
      "name": "copula.ipynb",
      "provenance": [],
      "toc_visible": true
    }
  },
  "cells": [
    {
      "cell_type": "code",
      "metadata": {
        "id": "UpjS6403mbtV",
        "colab_type": "code",
        "colab": {}
      },
      "source": [
        "import numpy as np\n",
        "import nibabel as nib\n",
        "from math import ceil\n",
        "from matplotlib import pyplot as plt\n",
        "from skimage.measure import shannon_entropy\n",
        "from copulas.bivariate import select_copula, Gumbel, Frank, Clayton\n",
        "from scipy.stats import invgamma, chi2, t\n",
        "from scipy.linalg import cholesky\n",
        "from scipy.stats import kendalltau\n",
        "from copulas.multivariate import GaussianMultivariate\n",
        "import warnings\n",
        "import time\n",
        "import numba\n",
        "import pandas as pd\n",
        "import mvt\n",
        "warnings.simplefilter('ignore')\n",
        "from tqdm import tqdm\n",
        "import gc\n",
        "gc.enable()\n",
        "import optuna\n",
        "optuna.logging.set_verbosity(optuna.logging.WARNING)"
      ],
      "execution_count": 0,
      "outputs": []
    },
    {
      "cell_type": "code",
      "metadata": {
        "id": "39_QJmNtmbty",
        "colab_type": "code",
        "colab": {}
      },
      "source": [
        "# Data loading\n",
        "t1_img = nib.load('mni_icbm152_t1_tal_nlin_asym_09a.nii')\n",
        "t1_data = t1_img.get_data()\n",
        "t2_img = nib.load('mni_icbm152_t2_tal_nlin_asym_09a.nii')\n",
        "t2_data = t2_img.get_data()\n",
        "# Slice of the Nifti image\n",
        "t1_slice = t1_data[:, :, 94]\n",
        "t2_slice = t2_data[:, :, 94]"
      ],
      "execution_count": 0,
      "outputs": []
    },
    {
      "cell_type": "code",
      "metadata": {
        "id": "_YGxwzdRmbt5",
        "colab_type": "code",
        "colab": {}
      },
      "source": [
        "# Plot parameters\n",
        "plt.rcParams['image.cmap'] = 'gray'\n",
        "plt.rcParams['image.interpolation'] = 'nearest'"
      ],
      "execution_count": 0,
      "outputs": []
    },
    {
      "cell_type": "code",
      "metadata": {
        "id": "0wH_KtjYmbt-",
        "colab_type": "code",
        "colab": {}
      },
      "source": [
        "# Flat the vector\n",
        "t1 = t1_slice.flatten().astype(np.float16)\n",
        "t2 = t2_slice.flatten().astype(np.float16)"
      ],
      "execution_count": 0,
      "outputs": []
    },
    {
      "cell_type": "code",
      "metadata": {
        "id": "H17V2d13mbuE",
        "colab_type": "code",
        "colab": {}
      },
      "source": [
        "n, m = t1_slice.shape"
      ],
      "execution_count": 0,
      "outputs": []
    },
    {
      "cell_type": "markdown",
      "metadata": {
        "id": "M6Z10cMimbuI",
        "colab_type": "text"
      },
      "source": [
        "# Empiric copula\n",
        "The calculation of this is necessary for the adjustment of an anlytic copula.\n",
        "$C_n(\\frac{i}{n}, \\frac{j}{m}) = \\frac{\\# x \\leq x_{(i)} \\& y \\leq y_{(i)}}{n}$"
      ]
    },
    {
      "cell_type": "code",
      "metadata": {
        "id": "RCzG-7fAmbuJ",
        "colab_type": "code",
        "colab": {}
      },
      "source": [
        "def em_copula(x,y):\n",
        "    n = len(x)\n",
        "    _xy = np.vstack((x,y)).T.reshape(n,2,1,1)\n",
        "    _xy_sorted = np.stack((\n",
        "        np.sort(x) + np.zeros((n,n)),\n",
        "        (np.sort(y) + np.zeros((n,n))).T\n",
        "    )).reshape(1,2,n,n)\n",
        "    return np.all(_xy <= _xy_sorted, axis = 1).sum(axis = 0).T"
      ],
      "execution_count": 0,
      "outputs": []
    },
    {
      "cell_type": "markdown",
      "metadata": {
        "id": "vLBwcTMrmbuN",
        "colab_type": "text"
      },
      "source": [
        "This runs out of memory for our test images (and probably for all of the images we try)"
      ]
    },
    {
      "cell_type": "code",
      "metadata": {
        "id": "jkifCq0ImbuO",
        "colab_type": "code",
        "colab": {}
      },
      "source": [
        "#em_copula(t1,t2)"
      ],
      "execution_count": 0,
      "outputs": []
    },
    {
      "cell_type": "markdown",
      "metadata": {
        "id": "fM8BwHfTmbuS",
        "colab_type": "text"
      },
      "source": [
        "Next one is a better option in terms of memory, however, due to its iterative nature, is more time consuming."
      ]
    },
    {
      "cell_type": "code",
      "metadata": {
        "id": "U9rl5AOCmbuS",
        "colab_type": "code",
        "colab": {}
      },
      "source": [
        "def empirical(X,Y):\n",
        "    n = len(X)\n",
        "    XY = np.vstack((X,Y)).T\n",
        "    sort_x = np.sort(X)\n",
        "    sort_y = np.sort(Y)\n",
        "    e_copula = np.zeros((n,n))\n",
        "    for i in tqdm(range(n)):\n",
        "        for j in range(n):\n",
        "            c = np.sum(np.where( (np.sum(np.where((XY <= [sort_x[i],sort_y[j]]), 1, 0), axis = 1)) == 2, 1, 0))\n",
        "            e_copula[i,j] = c/n\n",
        "    return e_copula    "
      ],
      "execution_count": 0,
      "outputs": []
    },
    {
      "cell_type": "markdown",
      "metadata": {
        "id": "TgiDKBjqmbuX",
        "colab_type": "text"
      },
      "source": [
        "## Smoothing\n",
        "This process will reduce the size of the image by a factor of $\\varepsilon$, making the data more manageable"
      ]
    },
    {
      "cell_type": "code",
      "metadata": {
        "id": "L080k1tEmbuZ",
        "colab_type": "code",
        "colab": {}
      },
      "source": [
        "e = 0.5\n",
        "# New size of the array\n",
        "alpha = ceil(n*e)\n",
        "beta = ceil(m*e)\n",
        "# New image\n",
        "n_t1 = np.zeros((alpha,beta))\n",
        "# Size of the window\n",
        "ne = ceil(n/alpha)\n",
        "me = ceil(m/beta)"
      ],
      "execution_count": 0,
      "outputs": []
    },
    {
      "cell_type": "code",
      "metadata": {
        "id": "tZDT5zTjmbuc",
        "colab_type": "code",
        "colab": {}
      },
      "source": [
        "# Resizing\n",
        "for i in range(alpha-1):\n",
        "    for j in range(beta-1):\n",
        "        n_t1[i,j] = np.mean(t1_slice[i*ne:(i+1)*ne, j*me: (j+1)*me])"
      ],
      "execution_count": 0,
      "outputs": []
    },
    {
      "cell_type": "markdown",
      "metadata": {
        "id": "N6cgKgSkmbui",
        "colab_type": "text"
      },
      "source": [
        "### Original image\n",
        "This is how the original image looks like"
      ]
    },
    {
      "cell_type": "code",
      "metadata": {
        "id": "dy7O-u7Xmbuj",
        "colab_type": "code",
        "outputId": "0b9df6c9-2aca-476b-8304-8ae0de579b04",
        "colab": {
          "base_uri": "https://localhost:8080/",
          "height": 269
        }
      },
      "source": [
        "plt.imshow(t1_slice)\n",
        "plt.show()"
      ],
      "execution_count": 12,
      "outputs": [
        {
          "output_type": "display_data",
          "data": {
            "image/png": "[encoded data removed]",
            "text/plain": [
              "<Figure size 432x288 with 1 Axes>"
            ]
          },
          "metadata": {
            "tags": [],
            "needs_background": "light"
          }
        }
      ]
    },
    {
      "cell_type": "markdown",
      "metadata": {
        "id": "WUhhfJRjmbun",
        "colab_type": "text"
      },
      "source": [
        "### Smoothed image\n",
        "This is the image after a reduction of half "
      ]
    },
    {
      "cell_type": "code",
      "metadata": {
        "id": "zHmadPS8mbuo",
        "colab_type": "code",
        "outputId": "92771e69-4add-4e16-c078-1720a3a2ed8f",
        "colab": {
          "base_uri": "https://localhost:8080/",
          "height": 268
        }
      },
      "source": [
        "plt.imshow(n_t1)\n",
        "plt.show()"
      ],
      "execution_count": 13,
      "outputs": [
        {
          "output_type": "display_data",
          "data": {
            "image/png": "[encoded data removed]",
            "text/plain": [
              "<Figure size 432x288 with 1 Axes>"
            ]
          },
          "metadata": {
            "tags": [],
            "needs_background": "light"
          }
        }
      ]
    },
    {
      "cell_type": "markdown",
      "metadata": {
        "id": "5GI7bgh_mbus",
        "colab_type": "text"
      },
      "source": [
        "They look very similar, don't they? But, how well does this final image represent the data? Let's find out by using the entropy measure"
      ]
    },
    {
      "cell_type": "code",
      "metadata": {
        "id": "1wuMCYQwmbut",
        "colab_type": "code",
        "colab": {}
      },
      "source": [
        "def smoothing(image, epsilon):\n",
        "    n, m = image.shape\n",
        "    # New size of the array\n",
        "    alpha = ceil(n*epsilon)\n",
        "    beta = ceil(m*epsilon)\n",
        "    # New image\n",
        "    n_image = np.zeros((alpha,beta))\n",
        "    # Size of the window\n",
        "    ne = ceil(n/alpha)\n",
        "    me = ceil(m/beta)\n",
        "    # Resizing\n",
        "    for i in range(alpha-1):\n",
        "        for j in range(beta-1):\n",
        "            n_image[i,j] = np.mean(image[i*ne:(i+1)*ne, j*me: (j+1)*me])\n",
        "    return n_image"
      ],
      "execution_count": 0,
      "outputs": []
    },
    {
      "cell_type": "code",
      "metadata": {
        "id": "b32K0IGRmbux",
        "colab_type": "code",
        "outputId": "3de2e406-8213-4828-8da8-1fa73d3d55d5",
        "colab": {
          "base_uri": "https://localhost:8080/",
          "height": 268
        }
      },
      "source": [
        "plt.imshow(smoothing(t1_slice, 0.5))\n",
        "plt.show()"
      ],
      "execution_count": 15,
      "outputs": [
        {
          "output_type": "display_data",
          "data": {
            "image/png": "[encoded data removed]",
            "text/plain": [
              "<Figure size 432x288 with 1 Axes>"
            ]
          },
          "metadata": {
            "tags": [],
            "needs_background": "light"
          }
        }
      ]
    },
    {
      "cell_type": "code",
      "metadata": {
        "id": "RB-Ebk1ombu1",
        "colab_type": "code",
        "outputId": "2edf86ce-b4a1-40b2-d9da-a50d939943bb",
        "colab": {
          "base_uri": "https://localhost:8080/",
          "height": 281
        }
      },
      "source": [
        "plt.plot(np.linspace(0.1,1,50),[shannon_entropy(smoothing(t1_slice, i)) for i in np.linspace(0.1,1,50)])\n",
        "plt.title('Entropy of the smoothed images in a factor of epsilon')\n",
        "plt.show()"
      ],
      "execution_count": 16,
      "outputs": [
        {
          "output_type": "display_data",
          "data": {
            "image/png": "[encoded data removed]",
            "text/plain": [
              "<Figure size 432x288 with 1 Axes>"
            ]
          },
          "metadata": {
            "tags": [],
            "needs_background": "light"
          }
        }
      ]
    },
    {
      "cell_type": "markdown",
      "metadata": {
        "id": "r4W1pUuVmbu6",
        "colab_type": "text"
      },
      "source": [
        "### Redefinition of the images\n",
        "Using the smoothing, we will select a smaller sample"
      ]
    },
    {
      "cell_type": "code",
      "metadata": {
        "id": "KB4fCAPNmbu7",
        "colab_type": "code",
        "colab": {}
      },
      "source": [
        "n_t1 = smoothing(t1_slice, 0.2).flatten()\n",
        "n_t1 = n_t1/max(n_t1)\n",
        "n_t2 = smoothing(t2_slice, 0.2).flatten()\n",
        "n_t2 = n_t2/max(n_t2)\n",
        "n = len(n_t1) # number of samples to draw"
      ],
      "execution_count": 0,
      "outputs": []
    },
    {
      "cell_type": "code",
      "metadata": {
        "id": "T5QJqnNVmbu-",
        "colab_type": "code",
        "outputId": "e1201d8f-ec12-46e5-b21b-211f4ca432e3",
        "colab": {
          "base_uri": "https://localhost:8080/",
          "height": 35
        }
      },
      "source": [
        "n"
      ],
      "execution_count": 18,
      "outputs": [
        {
          "output_type": "execute_result",
          "data": {
            "text/plain": [
              "20"
            ]
          },
          "metadata": {
            "tags": []
          },
          "execution_count": 18
        }
      ]
    },
    {
      "cell_type": "markdown",
      "metadata": {
        "id": "SOkyEidHmbvB",
        "colab_type": "text"
      },
      "source": [
        "## Copula fitting\n",
        "First, let's take a look into the empiric copula for our dataset (smoothed)."
      ]
    },
    {
      "cell_type": "code",
      "metadata": {
        "id": "Dii548sImbvC",
        "colab_type": "code",
        "outputId": "3d988e43-e176-444f-b506-e45850c91ad9",
        "colab": {
          "base_uri": "https://localhost:8080/",
          "height": 35
        }
      },
      "source": [
        "empiric_copula = empirical(n_t1,n_t2)"
      ],
      "execution_count": 19,
      "outputs": [
        {
          "output_type": "stream",
          "text": [
            "100%|██████████| 20/20 [00:00<00:00, 1415.73it/s]\n"
          ],
          "name": "stderr"
        }
      ]
    },
    {
      "cell_type": "code",
      "metadata": {
        "id": "MWjAwrO-mbvF",
        "colab_type": "code",
        "outputId": "f790d4c7-f715-4fa2-dbe9-debe816c101c",
        "colab": {
          "base_uri": "https://localhost:8080/",
          "height": 265
        }
      },
      "source": [
        "plt.imshow(empiric_copula, cmap='hot', interpolation='nearest')\n",
        "plt.show()"
      ],
      "execution_count": 20,
      "outputs": [
        {
          "output_type": "display_data",
          "data": {
            "image/png": "[encoded data removed]",
            "text/plain": [
              "<Figure size 432x288 with 1 Axes>"
            ]
          },
          "metadata": {
            "tags": [],
            "needs_background": "light"
          }
        }
      ]
    },
    {
      "cell_type": "markdown",
      "metadata": {
        "id": "-i4IYa53mbvJ",
        "colab_type": "text"
      },
      "source": [
        "Some built-in methods in Python use the empiric copula to compare against some known copulas and select the best fit using the kendall tau"
      ]
    },
    {
      "cell_type": "code",
      "metadata": {
        "id": "uEzhFtU6mbvJ",
        "colab_type": "code",
        "outputId": "ba730bcf-8481-47fb-b551-6d67bfd86aa9",
        "colab": {
          "base_uri": "https://localhost:8080/",
          "height": 71
        }
      },
      "source": [
        "copula = select_copula(np.vstack((n_t1,n_t2)).T)\n",
        "copula.fit(np.vstack((n_t1,n_t2)).T)\n",
        "n = len(n_t1)\n",
        "copula.to_dict()"
      ],
      "execution_count": 21,
      "outputs": [
        {
          "output_type": "execute_result",
          "data": {
            "text/plain": [
              "{'copula_type': 'CLAYTON',\n",
              " 'tau': 0.8765432098765432,\n",
              " 'theta': 14.200000000000001}"
            ]
          },
          "metadata": {
            "tags": []
          },
          "execution_count": 21
        }
      ]
    },
    {
      "cell_type": "code",
      "metadata": {
        "id": "-DOh3qX4mbvN",
        "colab_type": "code",
        "outputId": "7d51b775-8418-45c3-8e66-2df672bda511",
        "colab": {
          "base_uri": "https://localhost:8080/",
          "height": 35
        }
      },
      "source": [
        "gumbel_copula = Gumbel()\n",
        "gumbel_copula.fit(np.vstack((n_t1,n_t2)).T)\n",
        "gumbel_copula.to_dict()"
      ],
      "execution_count": 22,
      "outputs": [
        {
          "output_type": "execute_result",
          "data": {
            "text/plain": [
              "{'copula_type': 'GUMBEL', 'tau': 0.8765432098765432, 'theta': 8.1}"
            ]
          },
          "metadata": {
            "tags": []
          },
          "execution_count": 22
        }
      ]
    },
    {
      "cell_type": "code",
      "metadata": {
        "id": "T_wNYmkpmbvR",
        "colab_type": "code",
        "outputId": "69e14511-be13-4a49-b2af-861189a2358b",
        "colab": {
          "base_uri": "https://localhost:8080/",
          "height": 35
        }
      },
      "source": [
        "gumbel_sample = gumbel_copula.sample(n)\n",
        "gumbel = empirical(gumbel_sample[:,0],gumbel_sample[:,1])"
      ],
      "execution_count": 23,
      "outputs": [
        {
          "output_type": "stream",
          "text": [
            "100%|██████████| 20/20 [00:00<00:00, 2460.07it/s]\n"
          ],
          "name": "stderr"
        }
      ]
    },
    {
      "cell_type": "code",
      "metadata": {
        "id": "39xpgsermbvU",
        "colab_type": "code",
        "outputId": "43ffa362-6cf7-4e04-d212-9af6aab082d2",
        "colab": {
          "base_uri": "https://localhost:8080/",
          "height": 265
        }
      },
      "source": [
        "plt.imshow(gumbel,cmap='hot', interpolation='nearest')\n",
        "plt.show()"
      ],
      "execution_count": 24,
      "outputs": [
        {
          "output_type": "display_data",
          "data": {
            "image/png": "[encoded data removed]",
            "text/plain": [
              "<Figure size 432x288 with 1 Axes>"
            ]
          },
          "metadata": {
            "tags": [],
            "needs_background": "light"
          }
        }
      ]
    },
    {
      "cell_type": "markdown",
      "metadata": {
        "id": "nTu7rwrPmbvX",
        "colab_type": "text"
      },
      "source": [
        "## T-student copula\n",
        "Can be simulated as a extreme value copula"
      ]
    },
    {
      "cell_type": "code",
      "metadata": {
        "id": "NkN82y01mbvY",
        "colab_type": "code",
        "colab": {}
      },
      "source": [
        "# Define a correlation matrix, the p is a parameter\n",
        "cm = np.array([[1,0.8],[0.8,1]])\n",
        "# Find the cholesky matrix\n",
        "L = cholesky(cm)\n",
        "# Zero mean\n",
        "mu = np.zeros(len(cm))\n",
        "# Multivariate normal\n",
        "Y = np.random.multivariate_normal(mu, cm, n)\n",
        "Zd = np.exp(Y)\n",
        "# Degrees of freedom of the t-student copula\n",
        "df = 10\n",
        "# Simulate a chi squared\n",
        "S = np.random.chisquare(df)\n",
        "Z = np.sqrt(df/S)*L@Y.T\n",
        "# Simulated copula\n",
        "U = np.vstack((mvt.multivariate_t.pdf(x=Z[0],mean = 0, df=df), mvt.multivariate_t.pdf(x=Z[1],mean = 0, df=df)))"
      ],
      "execution_count": 0,
      "outputs": []
    },
    {
      "cell_type": "code",
      "metadata": {
        "id": "kTpZ2cQQmbvb",
        "colab_type": "code",
        "outputId": "2e123e7b-7b2b-4c62-b3ea-1ab9087610ef",
        "colab": {
          "base_uri": "https://localhost:8080/",
          "height": 53
        }
      },
      "source": [
        "copula_lognormal = empirical(Zd[:,0],Zd[:,1])\n",
        "copula_t = empirical(U[0],U[1])"
      ],
      "execution_count": 26,
      "outputs": [
        {
          "output_type": "stream",
          "text": [
            "100%|██████████| 20/20 [00:00<00:00, 1883.35it/s]\n",
            "100%|██████████| 20/20 [00:00<00:00, 2090.93it/s]\n"
          ],
          "name": "stderr"
        }
      ]
    },
    {
      "cell_type": "code",
      "metadata": {
        "id": "FSJD9LxqJv0y",
        "colab_type": "code",
        "colab": {}
      },
      "source": [
        "def t_student_copula(rho,df):\n",
        "  cm = np.array([[1,rho],[rho,1]])\n",
        "  L = cholesky(cm)\n",
        "  mu = np.zeros(len(cm))\n",
        "  Y = np.random.multivariate_normal(mu, cm, n)\n",
        "  Zd = np.exp(Y)\n",
        "  S = np.random.chisquare(df)\n",
        "  Z = np.sqrt(df/S)*L@Y.T\n",
        "  # Simulated copula\n",
        "  U1 = mvt.multivariate_t.pdf(x=Z[0],mean = 0, df=df)\n",
        "  U2 = mvt.multivariate_t.pdf(x=Z[1],mean = 0, df=df)\n",
        "  U = np.vstack((U1, U2))\n",
        "  return num_empirical(U[0],U[1], n)"
      ],
      "execution_count": 0,
      "outputs": []
    },
    {
      "cell_type": "code",
      "metadata": {
        "id": "Goa4g0tXJX5n",
        "colab_type": "code",
        "colab": {}
      },
      "source": [
        "def objective(trial):\n",
        "    df = trial.suggest_int('df', 1, 50)\n",
        "    rho = trial.suggest_uniform('rho', 0.0, 1.0)\n",
        "    t_copula = t_student_copula(rho,df)\n",
        "    return kendalltau(empiric_copula, t_copula)[0]"
      ],
      "execution_count": 0,
      "outputs": []
    },
    {
      "cell_type": "code",
      "metadata": {
        "id": "brJf8vLAKcJ2",
        "colab_type": "code",
        "colab": {
          "base_uri": "https://localhost:8080/",
          "height": 415
        },
        "outputId": "a0c3bde6-90de-4884-b631-a5cb4d54a2c3"
      },
      "source": [
        "study = optuna.create_study()\n",
        "study.optimize(objective, n_trials=20)\n",
        "study.best_params"
      ],
      "execution_count": 32,
      "outputs": [
        {
          "output_type": "stream",
          "text": [
            "\u001b[32m[I 2020-05-25 23:36:10,452]\u001b[0m Finished trial#0 with value: 0.7727004611999118 with parameters: {'df': 31, 'rho': 0.9174852930762573}. Best is trial#0 with value: 0.7727004611999118.\u001b[0m\n",
            "\u001b[32m[I 2020-05-25 23:36:10,564]\u001b[0m Finished trial#1 with value: 0.7515888394634959 with parameters: {'df': 32, 'rho': 0.3932707745229823}. Best is trial#1 with value: 0.7515888394634959.\u001b[0m\n",
            "\u001b[32m[I 2020-05-25 23:36:10,675]\u001b[0m Finished trial#2 with value: 0.7497347492352489 with parameters: {'df': 29, 'rho': 0.34208024095027834}. Best is trial#2 with value: 0.7497347492352489.\u001b[0m\n",
            "\u001b[32m[I 2020-05-25 23:36:10,788]\u001b[0m Finished trial#3 with value: 0.7172466185217048 with parameters: {'df': 9, 'rho': 0.6640271641873368}. Best is trial#3 with value: 0.7172466185217048.\u001b[0m\n",
            "\u001b[32m[I 2020-05-25 23:36:10,905]\u001b[0m Finished trial#4 with value: 0.7353678076157172 with parameters: {'df': 38, 'rho': 0.08538582819736051}. Best is trial#3 with value: 0.7172466185217048.\u001b[0m\n",
            "\u001b[32m[I 2020-05-25 23:36:11,021]\u001b[0m Finished trial#5 with value: 0.7461830090378354 with parameters: {'df': 14, 'rho': 0.517231292178186}. Best is trial#3 with value: 0.7172466185217048.\u001b[0m\n",
            "\u001b[32m[I 2020-05-25 23:36:11,135]\u001b[0m Finished trial#6 with value: 0.7306859134072443 with parameters: {'df': 46, 'rho': 0.2820118728971599}. Best is trial#3 with value: 0.7172466185217048.\u001b[0m\n",
            "\u001b[32m[I 2020-05-25 23:36:11,250]\u001b[0m Finished trial#7 with value: 0.735211729268681 with parameters: {'df': 3, 'rho': 0.0166963703582943}. Best is trial#3 with value: 0.7172466185217048.\u001b[0m\n",
            "\u001b[32m[I 2020-05-25 23:36:11,365]\u001b[0m Finished trial#8 with value: 0.7751331376270679 with parameters: {'df': 25, 'rho': 0.8755561850742378}. Best is trial#3 with value: 0.7172466185217048.\u001b[0m\n",
            "\u001b[32m[I 2020-05-25 23:36:11,483]\u001b[0m Finished trial#9 with value: 0.740831459913144 with parameters: {'df': 9, 'rho': 0.633260618324094}. Best is trial#3 with value: 0.7172466185217048.\u001b[0m\n",
            "\u001b[32m[I 2020-05-25 23:36:11,601]\u001b[0m Finished trial#10 with value: 0.7437975562187198 with parameters: {'df': 17, 'rho': 0.7064570373826555}. Best is trial#3 with value: 0.7172466185217048.\u001b[0m\n",
            "\u001b[32m[I 2020-05-25 23:36:11,718]\u001b[0m Finished trial#11 with value: 0.7255622325980647 with parameters: {'df': 43, 'rho': 0.22512223711514012}. Best is trial#3 with value: 0.7172466185217048.\u001b[0m\n",
            "\u001b[32m[I 2020-05-25 23:36:11,838]\u001b[0m Finished trial#12 with value: 0.721862835024362 with parameters: {'df': 50, 'rho': 0.16339925473611527}. Best is trial#3 with value: 0.7172466185217048.\u001b[0m\n",
            "\u001b[32m[I 2020-05-25 23:36:11,958]\u001b[0m Finished trial#13 with value: 0.7644305460571542 with parameters: {'df': 2, 'rho': 0.6751197950510961}. Best is trial#3 with value: 0.7172466185217048.\u001b[0m\n",
            "\u001b[32m[I 2020-05-25 23:36:12,077]\u001b[0m Finished trial#14 with value: 0.7434705106152123 with parameters: {'df': 21, 'rho': 0.49074452992926526}. Best is trial#3 with value: 0.7172466185217048.\u001b[0m\n",
            "\u001b[32m[I 2020-05-25 23:36:12,194]\u001b[0m Finished trial#15 with value: 0.7263204073299176 with parameters: {'df': 50, 'rho': 0.18228135500224177}. Best is trial#3 with value: 0.7172466185217048.\u001b[0m\n",
            "\u001b[32m[I 2020-05-25 23:36:12,311]\u001b[0m Finished trial#16 with value: 0.7732389478378774 with parameters: {'df': 8, 'rho': 0.7570580011827523}. Best is trial#3 with value: 0.7172466185217048.\u001b[0m\n",
            "\u001b[32m[I 2020-05-25 23:36:12,427]\u001b[0m Finished trial#17 with value: 0.7258644981310617 with parameters: {'df': 38, 'rho': 0.5094400722633259}. Best is trial#3 with value: 0.7172466185217048.\u001b[0m\n",
            "\u001b[32m[I 2020-05-25 23:36:12,542]\u001b[0m Finished trial#18 with value: 0.7634991642017667 with parameters: {'df': 11, 'rho': 0.7952419440351854}. Best is trial#3 with value: 0.7172466185217048.\u001b[0m\n",
            "\u001b[32m[I 2020-05-25 23:36:12,658]\u001b[0m Finished trial#19 with value: 0.771038564928778 with parameters: {'df': 23, 'rho': 0.5734339265013435}. Best is trial#3 with value: 0.7172466185217048.\u001b[0m\n"
          ],
          "name": "stderr"
        },
        {
          "output_type": "execute_result",
          "data": {
            "text/plain": [
              "{'df': 9, 'rho': 0.6640271641873368}"
            ]
          },
          "metadata": {
            "tags": []
          },
          "execution_count": 32
        }
      ]
    },
    {
      "cell_type": "markdown",
      "metadata": {
        "id": "FuOiI6Mbmbvf",
        "colab_type": "text"
      },
      "source": [
        "### Copulas comparison\n",
        "Bellow are shown 2 different extreme value copulas that can be adjusted ton our model, including the empiric copula, the t copula and the lognormal copula."
      ]
    },
    {
      "cell_type": "code",
      "metadata": {
        "id": "tdTXYJzGmbvg",
        "colab_type": "code",
        "outputId": "3a3b7885-0e26-4432-fdc6-1bcc6983db06",
        "colab": {}
      },
      "source": [
        "plt.imshow(empiric_copula,cmap='inferno', interpolation='nearest')\n",
        "plt.show()\n",
        "plt.imshow(copula_t,cmap='viridis', interpolation='nearest')\n",
        "plt.show()\n",
        "plt.imshow(copula_lognormal,cmap='hot', interpolation='nearest')\n",
        "plt.show()"
      ],
      "execution_count": 0,
      "outputs": [
        {
          "output_type": "display_data",
          "data": {
            "image/png": "[encoded data removed]",
            "text/plain": [
              "<Figure size 432x288 with 1 Axes>"
            ]
          },
          "metadata": {
            "tags": [],
            "needs_background": "light"
          }
        },
        {
          "output_type": "display_data",
          "data": {
            "image/png": "[encoded data removed]",
            "text/plain": [
              "<Figure size 432x288 with 1 Axes>"
            ]
          },
          "metadata": {
            "tags": [],
            "needs_background": "light"
          }
        },
        {
          "output_type": "display_data",
          "data": {
            "image/png": "[encoded data removed]",
            "text/plain": [
              "<Figure size 432x288 with 1 Axes>"
            ]
          },
          "metadata": {
            "tags": [],
            "needs_background": "light"
          }
        }
      ]
    },
    {
      "cell_type": "code",
      "metadata": {
        "id": "QQJ5_Bc4mbvj",
        "colab_type": "code",
        "colab": {}
      },
      "source": [
        "copula = GaussianMultivariate()\n",
        "copula.fit(np.vstack((n_t1,n_t2)).T)"
      ],
      "execution_count": 0,
      "outputs": []
    },
    {
      "cell_type": "code",
      "metadata": {
        "id": "RxyoZpM5mbvm",
        "colab_type": "code",
        "colab": {}
      },
      "source": [
        "num_samples = n\n",
        "samples = copula.sample(num_samples)"
      ],
      "execution_count": 0,
      "outputs": []
    },
    {
      "cell_type": "markdown",
      "metadata": {
        "id": "Umt4MEVBmbvq",
        "colab_type": "text"
      },
      "source": [
        "### Gaussian Copula\n",
        "This is a commonly used copula, that is going to be compared in tau correlation with the other copulas in the process"
      ]
    },
    {
      "cell_type": "code",
      "metadata": {
        "id": "ForwZmnPmbvq",
        "colab_type": "code",
        "outputId": "c2e4e5cb-c0ab-4553-dfc8-c832fdecd923",
        "colab": {}
      },
      "source": [
        "gaussian_copula = empirical(samples[0],samples[1])"
      ],
      "execution_count": 0,
      "outputs": [
        {
          "output_type": "stream",
          "text": [
            "100%|██████████| 120/120 [00:00<00:00, 229.15it/s]\n"
          ],
          "name": "stderr"
        }
      ]
    },
    {
      "cell_type": "code",
      "metadata": {
        "id": "cnknfy-Zmbvv",
        "colab_type": "code",
        "outputId": "26d5fa9c-2596-40ba-a457-bf60bbcbe84c",
        "colab": {}
      },
      "source": [
        "plt.imshow(gaussian_copula)\n",
        "plt.show()"
      ],
      "execution_count": 0,
      "outputs": [
        {
          "output_type": "display_data",
          "data": {
            "image/png": "[encoded data removed]",
            "text/plain": [
              "<Figure size 432x288 with 1 Axes>"
            ]
          },
          "metadata": {
            "tags": [],
            "needs_background": "light"
          }
        }
      ]
    },
    {
      "cell_type": "markdown",
      "metadata": {
        "id": "KyrDCEbhmbvz",
        "colab_type": "text"
      },
      "source": [
        "## Copula adjustment\n",
        "Class copulas contains a fit method that allow the user to introduce the data and find out which copula adjust better to it and also the density function asociated with said copula. An example, named test, is shown bellow."
      ]
    },
    {
      "cell_type": "code",
      "metadata": {
        "id": "oNwnLM0Tmbvz",
        "colab_type": "code",
        "colab": {}
      },
      "source": [
        "@numba.njit(parallel=True)\n",
        "def num_empirical(X, Y, n):\n",
        "        XY = np.vstack((X,Y)).T\n",
        "        X.sort()\n",
        "        Y.sort()\n",
        "        e_copula = np.zeros((n, n))\n",
        "        for i in numba.prange(n):\n",
        "            for j in numba.prange(n):\n",
        "                c = np.sum(np.where( (np.sum(np.where((XY <= np.array([X[i], Y[j]])), 1, 0), axis = 1)) == 2, 1, 0))\n",
        "                e_copula[i,j] = c / n\n",
        "        return e_copula"
      ],
      "execution_count": 0,
      "outputs": []
    },
    {
      "cell_type": "code",
      "metadata": {
        "id": "KNOZ-GxQmbv3",
        "colab_type": "code",
        "colab": {}
      },
      "source": [
        "class Copulas:\n",
        "    from copulas.bivariate import select_copula, Gumbel, Frank, Clayton\n",
        "    from copulas.multivariate import GaussianMultivariate\n",
        "    from scipy.stats import invgamma, chi2, t\n",
        "    from scipy.linalg import cholesky\n",
        "    from scipy.stats import kendalltau\n",
        "    import numpy as np\n",
        "\n",
        "    def __init__(self,data,n):\n",
        "        self.data = data\n",
        "        self.n = n\n",
        "        self.empiric_copula = self.empirical(data[0],data[1])\n",
        "        self.copula = None\n",
        "        self.pdf = None\n",
        "     \n",
        "    def fit_copulas(self):\n",
        "        g_copula = GaussianMultivariate()\n",
        "        try:\n",
        "          g_copula.fit(self.data.T)\n",
        "          samples = g_copula.sample(self.n)\n",
        "          self.gaussian_copula = {'tau': kendalltau(self.empirical(samples[0].values,samples[1].values), self.empiric_copula)[0]}\n",
        "        except:\n",
        "          self.gaussian_copula = {'tau': 0}\n",
        "        gu_copula = Gumbel()\n",
        "        try:        \n",
        "          gu_copula.fit(self.data.T)\n",
        "          samples = gu_copula.sample(self.n)\n",
        "          self.gumbel_copula = {'tau': kendalltau(self.empirical(samples[:,0],samples[:,1]), self.empiric_copula)[0]}\n",
        "        except:\n",
        "          self.gumbel_copula = {'tau': 0}\n",
        "        cl_copula = Clayton()\n",
        "        try:\n",
        "          cl_copula.fit(self.data.T)\n",
        "          samples = cl_copula.sample(self.n)\n",
        "          self.clayton_copula = {'tau': kendalltau(self.empirical(samples[:,0],samples[:,1]), self.empiric_copula)[0]}\n",
        "        except:\n",
        "          self.clayton_copula = {'tau' : 0}\n",
        "        fr_copula = Frank()\n",
        "        try:\n",
        "          fr_copula.fit(self.data.T)\n",
        "          samples = fr_copula.sample(self.n)\n",
        "          self.frank_copula = {'tau': kendalltau(self.empirical(samples[:,0],samples[:,1]), self.empiric_copula)[0]}\n",
        "        except:\n",
        "          self.frank_copula = {'tau': 0}\n",
        "        self.fit_t()\n",
        "        print('Finished fitting t copula')\n",
        "        self.fit_lognormal()\n",
        "        print('Finished fitting lognormal copula')\n",
        "        \n",
        "    def fit(self):\n",
        "        self.fit_copulas()\n",
        "        rhos = [self.gaussian_copula['tau'], \n",
        "                self.gumbel_copula['tau'], \n",
        "                self.clayton_copula['tau'], \n",
        "                self.frank_copula['tau'], \n",
        "                self.lognormal['tau'], \n",
        "                self.t_copula['tau']]\n",
        "        ind = np.argmax(rhos)\n",
        "        if ind == 0:\n",
        "            self.gaussian_final()\n",
        "        elif ind == 1:\n",
        "            self.gumbel_final()\n",
        "        elif ind == 2:\n",
        "            self.clayton_final()\n",
        "        elif ind == 3:\n",
        "            self.frank_final()\n",
        "        elif ind == 4:\n",
        "            self.lognormal_final()\n",
        "        elif ind == 5:\n",
        "            self.t_final()\n",
        "        \n",
        "    def gaussian_final(self):\n",
        "        g_copula = GaussianMultivariate()\n",
        "        g_copula.fit(self.data.T)\n",
        "        samples = g_copula.sample(self.n)\n",
        "        self.copula = {'copula_type': 'gaussian', 'copula': self.empirical(samples[0],samples[1])}\n",
        "        self.pdf = g_copula.pdf\n",
        "\n",
        "    def gumbel_final(self):\n",
        "        gu_copula = Gumbel()\n",
        "        gu_copula.fit(self.data.T)\n",
        "        samples = gu_copula.sample(self.n)\n",
        "        self.copula = {'copula_type': 'gumbel', 'copula': self.empirical(samples[:,0],samples[:,1])}\n",
        "        self.pdf = gu_copula.pdf\n",
        "\n",
        "    def clayton_final(self):\n",
        "        cl_copula = Clayton()\n",
        "        cl_copula.fit(self.data.T)\n",
        "        samples = cl_copula.sample(self.n)\n",
        "        self.copula = {'copula_type': 'clayton', 'copula': self.empirical(samples[:,0],samples[:,1])}\n",
        "        self.pdf = cl_copula.pdf\n",
        "\n",
        "    def t_final(self):\n",
        "        rho = self.t_copula['rho']\n",
        "        df = self.t_copula['df']\n",
        "        cop = self.t_student_copula(rho,df,self.n)\n",
        "        self.copula = {'copula_type': 't', 'copula': cop}\n",
        "        self.pdf = self.t_density\n",
        "        \n",
        "    def lognormal_final(self):\n",
        "        rho = self.lognormal['rho']\n",
        "        cop = self.lognormal_copula(rho,self.n)\n",
        "        self.copula = {'copula_type': 'lognormal', 'copula': cop}\n",
        "        g_copula = GaussianMultivariate()\n",
        "        g_copula.fit(self.data.T)\n",
        "        self.pdf = lognormal_density\n",
        "        \n",
        "    def lognormal_density(self, X):\n",
        "        return self.gaussian_copula.pdf(X)\n",
        "        \n",
        "    def frank_final(self):\n",
        "        fr_copula = Frank()\n",
        "        fr_copula.fit(self.data.T)\n",
        "        samples = fr_copula.sample(self.n)\n",
        "        self.copula = {'copula_type': 'frank', 'copula': self.empirical(samples[:,0],samples[:,1])}\n",
        "        self.pdf = fr_copula.pdf\n",
        "    \n",
        "    # This function simulates a t_student copula with parameters:\n",
        "    # * rho: The correlation coefficient between the variables\n",
        "    # * df: The degrees of freedom of the t distribution\n",
        "    # * n: the number of samples to draw from the copula\n",
        "    # And returns: an nxn matrix with the simulated bivariate copula.\n",
        "    def t_student_copula(self,rho,df,n):\n",
        "        cm = np.array([[1,rho],[rho,1]])\n",
        "        L = cholesky(cm)\n",
        "        mu = np.zeros(len(cm))\n",
        "        Y = np.random.multivariate_normal(mu, cm, n)\n",
        "        Zd = np.exp(Y)\n",
        "        S = np.random.chisquare(df)\n",
        "        Z = np.sqrt(df/S)*L@Y.T\n",
        "        # Simulated copula\n",
        "        U1 = mvt.multivariate_t.pdf(x=Z[0],mean = 0, df=df)\n",
        "        U2 = mvt.multivariate_t.pdf(x=Z[1],mean = 0, df=df)\n",
        "        U = np.vstack((U1, U2))\n",
        "        return self.empirical(U[0],U[1])\n",
        "    \n",
        "    # This function simulates a lognormal copula with parameters:\n",
        "    # * rho: The correlation coefficient between the variables\n",
        "    # * n: the number of samples to draw from the copula\n",
        "    # And returns: an nxn matrix with the simulated bivariate copula.\n",
        "    def lognormal_copula(self,rho,n):\n",
        "        cm = np.array([[1,rho],[rho,1]])\n",
        "        L = cholesky(cm)\n",
        "        mu = np.zeros(len(cm))\n",
        "        Y = np.random.multivariate_normal(mu, cm, n)\n",
        "        Zd = np.exp(Y)\n",
        "        return self.empirical(Zd[:,0],Zd[:,1])\n",
        "    \n",
        "    def t_objective(self,trial):\n",
        "        df = trial.suggest_int('df', 1, 50)\n",
        "        rho = trial.suggest_uniform('rho', 0.0, 1.0)\n",
        "        t_copula = self.t_student_copula(rho,df,self.n)\n",
        "        return kendalltau(self.empiric_copula, t_copula)[0]\n",
        "      \n",
        "    def l_objective(self, trial):\n",
        "        rho = trial.suggest_uniform('rho', 0.0, 1.0)\n",
        "        l_copula = self.lognormal_copula(rho,self.n)\n",
        "        return kendalltau(self.empiric_copula, l_copula)[0]\n",
        "\n",
        "    def fit_t(self):\n",
        "        study = optuna.create_study()\n",
        "        study.optimize(self.t_objective, n_trials=20)\n",
        "        study.best_params      \n",
        "        self.t_copula = study.best_params\n",
        "        rho = study.best_params['rho']\n",
        "        df = study.best_params['df']\n",
        "        t_copula = self.t_student_copula(rho,df,self.n)\n",
        "        self.t_copula['tau'] = kendalltau(self.empiric_copula, t_copula)[0]\n",
        "\n",
        "    def fit_lognormal(self):\n",
        "        study = optuna.create_study()\n",
        "        study.optimize(self.l_objective, n_trials=20)\n",
        "        study.best_params      \n",
        "        aux = study.best_params\n",
        "        rho = study.best_params['rho']\n",
        "        l_copula = self.lognormal_copula(rho,self.n)\n",
        "        aux['tau'] = kendalltau(self.empiric_copula, l_copula)[0] \n",
        "        self.lognormal = aux\n",
        "            \n",
        "    def empirical(self,X,Y):\n",
        "        try:\n",
        "          em = num_empirical(X.values, Y.values, self.n)\n",
        "        except:\n",
        "          em = num_empirical(X, Y, self.n)\n",
        "        return em\n",
        "    \n",
        "    def t_density(self, X):\n",
        "        df = self.df()\n",
        "        ui = X[0]\n",
        "        vi = X[1]\n",
        "        num = mvt.multivariate_t.pdf(x=[ui,vi],mean = 0, df=df)\n",
        "        den1 =  mvt.multivariate_t.pdf(x=ui,mean = 0, df=df)\n",
        "        den2 =  mvt.multivariate_t.pdf(x=vi,mean = 0, df=df)\n",
        "        return num/(den1*den2)\n",
        "    \n",
        "    def lognormal_density(self, X):\n",
        "        self.g_copula\n",
        "        return self.g_copula.pdf(X)\n",
        "        "
      ],
      "execution_count": 0,
      "outputs": []
    },
    {
      "cell_type": "markdown",
      "metadata": {
        "id": "sccH5UiZmbwC",
        "colab_type": "text"
      },
      "source": [
        "### Test\n",
        "First, initialize the class using the data and the number of points in it"
      ]
    },
    {
      "cell_type": "code",
      "metadata": {
        "id": "_WqgK8xembwE",
        "colab_type": "code",
        "colab": {}
      },
      "source": [
        "test = Copulas(np.vstack((n_t1,n_t2)), len(n_t1))"
      ],
      "execution_count": 0,
      "outputs": []
    },
    {
      "cell_type": "markdown",
      "metadata": {
        "id": "jAVrcYlCmbwI",
        "colab_type": "text"
      },
      "source": [
        "### Fit\n",
        "Call the method fit, that will set the best copula as the copula for the test, along with its pdf"
      ]
    },
    {
      "cell_type": "code",
      "metadata": {
        "id": "nHkMgmo4mbwJ",
        "colab_type": "code",
        "outputId": "071e335d-e33c-4654-c7b7-ae5798a604ca",
        "colab": {
          "base_uri": "https://localhost:8080/",
          "height": 53
        }
      },
      "source": [
        "test.fit()"
      ],
      "execution_count": 60,
      "outputs": [
        {
          "output_type": "stream",
          "text": [
            "Finished fitting t copula\n",
            "Finished fitting lognormal copula\n"
          ],
          "name": "stdout"
        }
      ]
    },
    {
      "cell_type": "code",
      "metadata": {
        "id": "kr55TpA-mbwM",
        "colab_type": "code",
        "outputId": "f762b333-2391-4576-e65d-69aaa186f708",
        "colab": {
          "base_uri": "https://localhost:8080/",
          "height": 755
        }
      },
      "source": [
        "test.copula"
      ],
      "execution_count": 57,
      "outputs": [
        {
          "output_type": "execute_result",
          "data": {
            "text/plain": [
              "{'copula': array([[0.05, 0.05, 0.05, 0.05, 0.05, 0.05, 0.05, 0.05, 0.05, 0.05, 0.05,\n",
              "         0.05, 0.05, 0.05, 0.05, 0.05, 0.05, 0.05, 0.05, 0.05],\n",
              "        [0.05, 0.1 , 0.1 , 0.1 , 0.1 , 0.1 , 0.1 , 0.1 , 0.1 , 0.1 , 0.1 ,\n",
              "         0.1 , 0.1 , 0.1 , 0.1 , 0.1 , 0.1 , 0.1 , 0.1 , 0.1 ],\n",
              "        [0.05, 0.1 , 0.15, 0.15, 0.15, 0.15, 0.15, 0.15, 0.15, 0.15, 0.15,\n",
              "         0.15, 0.15, 0.15, 0.15, 0.15, 0.15, 0.15, 0.15, 0.15],\n",
              "        [0.05, 0.1 , 0.15, 0.2 , 0.2 , 0.2 , 0.2 , 0.2 , 0.2 , 0.2 , 0.2 ,\n",
              "         0.2 , 0.2 , 0.2 , 0.2 , 0.2 , 0.2 , 0.2 , 0.2 , 0.2 ],\n",
              "        [0.05, 0.1 , 0.15, 0.2 , 0.25, 0.25, 0.25, 0.25, 0.25, 0.25, 0.25,\n",
              "         0.25, 0.25, 0.25, 0.25, 0.25, 0.25, 0.25, 0.25, 0.25],\n",
              "        [0.05, 0.1 , 0.15, 0.2 , 0.25, 0.3 , 0.3 , 0.3 , 0.3 , 0.3 , 0.3 ,\n",
              "         0.3 , 0.3 , 0.3 , 0.3 , 0.3 , 0.3 , 0.3 , 0.3 , 0.3 ],\n",
              "        [0.05, 0.1 , 0.15, 0.2 , 0.25, 0.3 , 0.35, 0.35, 0.35, 0.35, 0.35,\n",
              "         0.35, 0.35, 0.35, 0.35, 0.35, 0.35, 0.35, 0.35, 0.35],\n",
              "        [0.05, 0.1 , 0.15, 0.2 , 0.25, 0.3 , 0.35, 0.4 , 0.4 , 0.4 , 0.4 ,\n",
              "         0.4 , 0.4 , 0.4 , 0.4 , 0.4 , 0.4 , 0.4 , 0.4 , 0.4 ],\n",
              "        [0.05, 0.1 , 0.15, 0.2 , 0.25, 0.3 , 0.35, 0.4 , 0.45, 0.45, 0.45,\n",
              "         0.45, 0.45, 0.45, 0.45, 0.45, 0.45, 0.45, 0.45, 0.45],\n",
              "        [0.05, 0.1 , 0.15, 0.2 , 0.25, 0.3 , 0.35, 0.4 , 0.45, 0.5 , 0.5 ,\n",
              "         0.5 , 0.5 , 0.5 , 0.5 , 0.5 , 0.5 , 0.5 , 0.5 , 0.5 ],\n",
              "        [0.05, 0.1 , 0.15, 0.2 , 0.25, 0.3 , 0.35, 0.4 , 0.45, 0.5 , 0.55,\n",
              "         0.55, 0.55, 0.55, 0.55, 0.55, 0.55, 0.55, 0.55, 0.55],\n",
              "        [0.05, 0.1 , 0.15, 0.2 , 0.25, 0.3 , 0.35, 0.4 , 0.45, 0.5 , 0.55,\n",
              "         0.6 , 0.6 , 0.6 , 0.6 , 0.6 , 0.6 , 0.6 , 0.6 , 0.6 ],\n",
              "        [0.05, 0.1 , 0.15, 0.2 , 0.25, 0.3 , 0.35, 0.4 , 0.45, 0.5 , 0.55,\n",
              "         0.6 , 0.65, 0.65, 0.65, 0.65, 0.65, 0.65, 0.65, 0.65],\n",
              "        [0.05, 0.1 , 0.15, 0.2 , 0.25, 0.3 , 0.35, 0.4 , 0.45, 0.5 , 0.55,\n",
              "         0.6 , 0.65, 0.7 , 0.7 , 0.7 , 0.7 , 0.7 , 0.7 , 0.7 ],\n",
              "        [0.05, 0.1 , 0.15, 0.2 , 0.25, 0.3 , 0.35, 0.4 , 0.45, 0.5 , 0.55,\n",
              "         0.6 , 0.65, 0.7 , 0.75, 0.75, 0.75, 0.75, 0.75, 0.75],\n",
              "        [0.05, 0.1 , 0.15, 0.2 , 0.25, 0.3 , 0.35, 0.4 , 0.45, 0.5 , 0.55,\n",
              "         0.6 , 0.65, 0.7 , 0.75, 0.8 , 0.8 , 0.8 , 0.8 , 0.8 ],\n",
              "        [0.05, 0.1 , 0.15, 0.2 , 0.25, 0.3 , 0.35, 0.4 , 0.45, 0.5 , 0.55,\n",
              "         0.6 , 0.65, 0.7 , 0.75, 0.8 , 0.85, 0.85, 0.85, 0.85],\n",
              "        [0.05, 0.1 , 0.15, 0.2 , 0.25, 0.3 , 0.35, 0.4 , 0.45, 0.5 , 0.55,\n",
              "         0.6 , 0.65, 0.7 , 0.75, 0.8 , 0.85, 0.9 , 0.9 , 0.9 ],\n",
              "        [0.05, 0.1 , 0.15, 0.2 , 0.25, 0.3 , 0.35, 0.4 , 0.45, 0.5 , 0.55,\n",
              "         0.6 , 0.65, 0.7 , 0.75, 0.8 , 0.85, 0.9 , 0.95, 0.95],\n",
              "        [0.05, 0.1 , 0.15, 0.2 , 0.25, 0.3 , 0.35, 0.4 , 0.45, 0.5 , 0.55,\n",
              "         0.6 , 0.65, 0.7 , 0.75, 0.8 , 0.85, 0.9 , 0.95, 1.  ]]),\n",
              " 'copula_type': 'gaussian'}"
            ]
          },
          "metadata": {
            "tags": []
          },
          "execution_count": 57
        }
      ]
    },
    {
      "cell_type": "markdown",
      "metadata": {
        "id": "a1bfwPSrmbwQ",
        "colab_type": "text"
      },
      "source": [
        "## Kernel density estimation for the marginals"
      ]
    },
    {
      "cell_type": "code",
      "metadata": {
        "id": "Uz_QKxesmbwR",
        "colab_type": "code",
        "colab": {}
      },
      "source": [
        "from scipy.stats import gaussian_kde"
      ],
      "execution_count": 0,
      "outputs": []
    },
    {
      "cell_type": "code",
      "metadata": {
        "id": "2cHrNXSombwW",
        "colab_type": "code",
        "colab": {}
      },
      "source": [
        "kde_1 = gaussian_kde(n_t1)\n",
        "kde_2 = gaussian_kde(n_t2)"
      ],
      "execution_count": 0,
      "outputs": []
    },
    {
      "cell_type": "code",
      "metadata": {
        "id": "UswNrCm8mbwZ",
        "colab_type": "code",
        "colab": {}
      },
      "source": [
        "import scipy.integrate as integrate "
      ],
      "execution_count": 0,
      "outputs": []
    },
    {
      "cell_type": "code",
      "metadata": {
        "id": "IWDZRmSxmbwd",
        "colab_type": "code",
        "outputId": "2e4ee355-eff8-425d-a5dc-2b5658649fd3",
        "colab": {}
      },
      "source": [
        "source = 'mni_icbm152_t1_tal_nlin_asym_09a.nii'\n",
        "target = 'mni_icbm152_t2_tal_nlin_asym_09a.nii'\n",
        "I = nib.load(source)\n",
        "J = nib.load(target)\n",
        "\n",
        "# Perform affine registration\n",
        "# The output is an array-like object such that\n",
        "# np.asarray(T) is a customary 4x4 matrix\n",
        "print('Setting up registration...')\n",
        "tic = time.time()\n",
        "R = HistogramRegistration(I, J, similarity = CorrelationRatio)\n",
        "tol = 1e-2\n",
        "T = R.optimize('similarity', xtol=tol, ftol=tol)\n",
        "toc = time.time()\n",
        "print('  Registration time: %f sec' % (toc - tic))\n",
        "\n",
        "# Resample source image\n",
        "print('Resampling source image...')\n",
        "tic = time.time()\n",
        "#It = resample2(I, J.coordmap, T.inv(), J.shape)\n",
        "It = resample(I, T.inv(), reference=J)\n",
        "toc = time.time()\n",
        "print('  Resampling time: %f sec' % (toc - tic))\n",
        "\n",
        "outroot = source + '_TO_' + target\n",
        "outimg = outroot + '.nii.gz'\n",
        "print ('Saving resampled source in: %s' % outimg)\n",
        "nib.save(It, outimg)"
      ],
      "execution_count": 0,
      "outputs": [
        {
          "output_type": "stream",
          "text": [
            "Setting up registration...\n",
            "Optimization terminated successfully.\n",
            "         Current function value: -0.729565\n",
            "         Iterations: 1\n",
            "         Function evaluations: 270\n",
            "  Registration time: 15.282757 sec\n",
            "Resampling source image...\n",
            "  Resampling time: 2.683388 sec\n",
            "Saving resampled source in: mni_icbm152_t1_tal_nlin_asym_09a.nii_TO_mni_icbm152_t2_tal_nlin_asym_09a.nii.nii.gz\n"
          ],
          "name": "stdout"
        }
      ]
    },
    {
      "cell_type": "markdown",
      "metadata": {
        "id": "_u5Rsi4Qmbwf",
        "colab_type": "text"
      },
      "source": [
        "## Correlation ratio\n",
        "Two approaches are shown bellow. The first one, the continous correlation ratio, measures this distance using the integral of the continous pdf. The second one, integrates in the range of the data and then calculates the discrete correlation ratio."
      ]
    },
    {
      "cell_type": "code",
      "metadata": {
        "id": "K97Sz4Nzmbwg",
        "colab_type": "code",
        "colab": {}
      },
      "source": [
        "# Joint probability function\n",
        "fxy = lambda x, y: test.pdf(np.array([[x],[y]]).T)\n",
        "# Univariate probability functions\n",
        "fy = lambda y: kde_2.evaluate(y)#/.7562224038734962\n",
        "fx = lambda x: kde_1.evaluate(x)#/0.8014829232295999"
      ],
      "execution_count": 0,
      "outputs": []
    },
    {
      "cell_type": "code",
      "metadata": {
        "id": "lLha8yX0mbwi",
        "colab_type": "code",
        "colab": {}
      },
      "source": [
        "def correlation_ratio_continous(fxy,fx,fy):\n",
        "    def correlation_ratio_aux_x(y):\n",
        "        con_ex = lambda x: x*(fxy(x,y)/fy(y))\n",
        "        conditional_expectation = integrate.quad(con_ex,0, 1)[0]\n",
        "        con_var = lambda x: (x - conditional_expectation)**2*(fxy(x,y)/fy(y))\n",
        "        var = lambda x: x**2*fx(x)\n",
        "        variance = integrate.quad(var, -np.inf,np.inf)[0]\n",
        "        correlation_ratio = integrate.quad(con_var,0,1)[0]  \n",
        "\n",
        "        return (1/variance)*correlation_ratio*fy(y)\n",
        "\n",
        "    def correlation_ratio_aux_y(x):\n",
        "        con_ex = lambda y: y*(fxy(x,y)/fy(y))\n",
        "        conditional_expectation = integrate.quad(con_ex,0, 1)[0]\n",
        "        con_var = lambda y: (y - conditional_expectation)**2*(fxy(x,y)/fy(y))\n",
        "        var = lambda y: y**2*fy(y)\n",
        "        variance = integrate.quad(var, -np.inf,np.inf)[0]\n",
        "        correlation_ratio = integrate.quad(con_var,0,1)[0]  \n",
        "\n",
        "        return (1/variance)*correlation_ratio*fx(x)\n",
        "    return integrate.quad(correlation_ratio_aux_x, 0,1)[0] + integrate.quad(correlation_ratio_aux_y, 0,1)[0]"
      ],
      "execution_count": 0,
      "outputs": []
    },
    {
      "cell_type": "code",
      "metadata": {
        "id": "YidQpCM7mbwl",
        "colab_type": "code",
        "outputId": "c5c70f42-23e8-4c3c-c463-932662e8a572",
        "colab": {}
      },
      "source": [
        "correlation_ratio_continous(fxy,fx,fy)"
      ],
      "execution_count": 0,
      "outputs": [
        {
          "output_type": "execute_result",
          "data": {
            "text/plain": [
              "4.647027902235961"
            ]
          },
          "metadata": {
            "tags": []
          },
          "execution_count": 145
        }
      ]
    },
    {
      "cell_type": "code",
      "metadata": {
        "id": "HxgRgc4fmbwp",
        "colab_type": "code",
        "colab": {}
      },
      "source": [
        "a = np.unique(np.sort(n_t1))\n",
        "b = np.unique(np.sort(n_t2))"
      ],
      "execution_count": 0,
      "outputs": []
    },
    {
      "cell_type": "code",
      "metadata": {
        "id": "gdeHbuavmbws",
        "colab_type": "code",
        "colab": {}
      },
      "source": [
        "fd = np.zeros((len(a), len(b)))\n",
        "for i in tqdm(range(1,len(a))):\n",
        "    for j in range(1,len(b)):\n",
        "        fd[i,j] = integrate.dblquad(fxy, a[i-1], a[i], lambda x: b[i-1], lambda x: b[i])[0]"
      ],
      "execution_count": 0,
      "outputs": []
    },
    {
      "cell_type": "code",
      "metadata": {
        "id": "_FWKxHYdmbwx",
        "colab_type": "code",
        "outputId": "99075490-154d-4c56-9f51-cbc408fc9211",
        "colab": {}
      },
      "source": [
        "fd.shape"
      ],
      "execution_count": 0,
      "outputs": [
        {
          "output_type": "execute_result",
          "data": {
            "text/plain": [
              "(100, 100)"
            ]
          },
          "metadata": {
            "tags": []
          },
          "execution_count": 92
        }
      ]
    },
    {
      "cell_type": "code",
      "metadata": {
        "id": "lD-tdganmbw4",
        "colab_type": "code",
        "outputId": "be3349d4-ce3d-4651-df38-91eb08bd9ea5",
        "colab": {}
      },
      "source": [
        "fd[np.where(a == n_t1[0]), np.where(b == n_t2[1])]"
      ],
      "execution_count": 0,
      "outputs": [
        {
          "output_type": "execute_result",
          "data": {
            "text/plain": [
              "array([[0.02574619]])"
            ]
          },
          "metadata": {
            "tags": []
          },
          "execution_count": 101
        }
      ]
    },
    {
      "cell_type": "code",
      "metadata": {
        "id": "xRk05bqGmbw7",
        "colab_type": "code",
        "colab": {}
      },
      "source": [
        "def correlation_ratio_discrete(dens,X,Y):\n",
        "    a = np.unique(np.sort(X))\n",
        "    b = np.unique(np.sort(Y))\n",
        "    marginal_x = np.sum(dens, axis = 1)\n",
        "    marginal_y = np.sum(dens, axis = 0)\n",
        "    def conditional_variance_x(y):\n",
        "        py = marginal_y[np.where(b == y)]\n",
        "        if py == 0:\n",
        "            return 0\n",
        "        else:\n",
        "            conditional_expectation = lambda x: x*dens[np.where(a == x),np.where(b == y)]/py\n",
        "            ce = 0;\n",
        "            for i in X:\n",
        "                ce += conditional_expectation(i)\n",
        "            conditional_variance = lambda x: (x - ce)**2*dens[np.where(a == x),np.where(b == y)]/py\n",
        "            cv = 0\n",
        "            for i in X:\n",
        "                cv += conditional_variance(i)\n",
        "            return cv\n",
        "    def conditional_variance_y(x):\n",
        "        px = marginal_x[np.where(a == x)]\n",
        "        if px == 0:\n",
        "            return 0\n",
        "        else:\n",
        "            conditional_expectation = lambda y: y*dens[np.where(a == x),np.where(b == y)]/px\n",
        "            ce = 0;\n",
        "            for i in Y:\n",
        "                ce += conditional_expectation(i)\n",
        "            conditional_variance = lambda y: (y - ce)**2*dens[np.where(a == x),np.where(b == y)]/px\n",
        "            cv = 0\n",
        "            for i in Y:\n",
        "                cv += conditional_variance(i)\n",
        "            return cv\n",
        "    var_x = np.var(X)\n",
        "    su = 0\n",
        "    for y in Y:\n",
        "        su += conditional_variance_x(y)\n",
        "    left = su[0]/var_x\n",
        "    var_y = np.var(Y)\n",
        "    su = 0\n",
        "    for x in X:\n",
        "        su += conditional_variance_y(x)\n",
        "    right = su/var_y\n",
        "    correlation_ratio = left + right\n",
        "    return correlation_ratio[0][0]"
      ],
      "execution_count": 0,
      "outputs": []
    },
    {
      "cell_type": "code",
      "metadata": {
        "id": "AMGX2aTYmbw_",
        "colab_type": "code",
        "outputId": "fe72a133-e68f-454a-dc74-049789749217",
        "colab": {}
      },
      "source": [
        "correlation_ratio_discrete(fd, n_t1, n_t2)"
      ],
      "execution_count": 0,
      "outputs": [
        {
          "output_type": "execute_result",
          "data": {
            "text/plain": [
              "188.31233752176382"
            ]
          },
          "metadata": {
            "tags": []
          },
          "execution_count": 134
        }
      ]
    },
    {
      "cell_type": "markdown",
      "metadata": {
        "id": "LiN14u42mbxB",
        "colab_type": "text"
      },
      "source": [
        "## Results comparison\n",
        "As we see, both approaches show different results for the correlation ratio, one being clearly bigger than the other one. Which one to choose?"
      ]
    },
    {
      "cell_type": "code",
      "metadata": {
        "id": "Jw7gHMX6mbxC",
        "colab_type": "code",
        "colab": {}
      },
      "source": [
        "dd = pd.DataFrame()"
      ],
      "execution_count": 0,
      "outputs": []
    },
    {
      "cell_type": "code",
      "metadata": {
        "id": "DYdLxyVHmbxE",
        "colab_type": "code",
        "colab": {}
      },
      "source": [
        "contin = []\n",
        "discret = []\n",
        "for i in np.linspace(0.05,1,5):    \n",
        "    n_t1 = smoothing(t1_slice, i).flatten()\n",
        "    n_t1 = n_t1/max(n_t1)\n",
        "    n_t2 = smoothing(t2_slice, i).flatten()\n",
        "    n_t2 = n_t2/max(n_t2)\n",
        "    n = len(n_t1) # number of samples to draw\n",
        "    test = Copulas(np.vstack((n_t1,n_t2)), len(n_t1))\n",
        "    test.fit()\n",
        "    kde_1 = gaussian_kde(n_t1)\n",
        "    kde_2 = gaussian_kde(n_t2)\n",
        "    fxy = lambda x, y: test.pdf(np.array([[x],[y]]).T)\n",
        "    # Univariate probability functions\n",
        "    fy = lambda y: kde_2.evaluate(y)\n",
        "    fx = lambda x: kde_1.evaluate(x)\n",
        "    contin.append(correlation_ratio_continous(fxy,fx,fy))\n",
        "    a = np.unique(np.sort(n_t1))\n",
        "    b = np.unique(np.sort(n_t2))\n",
        "    fd = np.zeros((len(a), len(b)))\n",
        "    for i in tqdm(range(1,len(a))):\n",
        "        for j in range(1,len(b)):\n",
        "            fd[i,j] = integrate.dblquad(fxy, a[i-1], a[i], lambda x: b[i-1], lambda x: b[i])[0]\n",
        "    discret.append(correlation_ratio_discrete(fd, n_t1, n_t2))"
      ],
      "execution_count": 0,
      "outputs": []
    },
    {
      "cell_type": "code",
      "metadata": {
        "id": "-kR9eQiWmbxH",
        "colab_type": "code",
        "colab": {}
      },
      "source": [
        "dd['Continous'] = contin\n",
        "dd['Discrete'] = discret\n",
        "print(dd.to_latex())"
      ],
      "execution_count": 0,
      "outputs": []
    }
  ]
}